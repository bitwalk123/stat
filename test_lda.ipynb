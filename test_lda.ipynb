{
 "cells": [
  {
   "cell_type": "markdown",
   "id": "48688bcd",
   "metadata": {},
   "source": [
    "# 機械学習 第7回：LDA(Linear Discriminant Analysis)\n",
    "\n",
    "引用サイト\n",
    "https://ameblo.jp/cognitive-solution/entry-12287355673.html"
   ]
  },
  {
   "cell_type": "markdown",
   "id": "91adfba3",
   "metadata": {},
   "source": [
    "最初にLDAを公式化したR. A. Fisherにちなんで、フィッシャーのLDAと呼ぼれることもあります。LDAを適用するにあたり、データが以下の3つの条件を満たしていることを前提にしています。\n",
    "\n",
    "1. データが正規分布している。\n",
    "1. 各クラスが同じ共分散行列を持つ。\n",
    "1. 変量が統計的に互いに独立している。\n",
    " \n",
    "\n",
    "使用するデータは、前回(第6回)と同様に、オープンソースであるUCI機械学習リポジトリから、「ワインデータ」を使用します。178のデータからなり、変数は、'Alcohol', 'Malic acid', 'Ash', 'Alcalinity of ash', 'Magnesium', 'Total phenols', 'Flavanoids', 'Nonflavanoid phenols', 'Proanthocyanins', 'Color intensity', 'Hue', 'OD280/OD315 of diluted wines', 'Proline'の化学特性による13の変量からなります。\n",
    "\n",
    " \n",
    "\n",
    "https://archive.ics.uci.edu/ml/machine-learning-databases/wine/wine.data\n",
    "\n",
    " \n",
    "\n",
    "各サンプルは、３つの異なるクラス(1または 2またh 3)に属します。それぞれ、イタリアの異なる地域で栽培された異なるぶどうのタイプを表しています。\n",
    "\n",
    "13の変量がありますが、２次元の図にプロットする都合上、LDAにより、２つの新変量を抽出し、Pythonを使用してワインの種類を予測する機械学習モデルを作成します。LDAとPythonを使用した機械学習の流れは、概ね以下になります。主成分分析の場合と異なるのは7と8のみです。なお、Pythonのバージョンは3.5以上を想定しています。\n",
    "\n",
    " \n",
    "\n",
    "プロット出力用の関数を定義する。\n",
    "データを入力する。\n",
    "入力データを、トレーニングデータとテストデータに分ける。\n",
    "トレーニングデータを使用してデータの標準偏差と平均値を求める。\n",
    "標準偏差と平均値を使用して、トレーニングデータとテストデータを、それぞれ標準化する。\n",
    "適切なモデル(Classifier)を選択する。\n",
    "LDAにより、入力データから上位２つの新変量を抽出する。\n",
    "LDAにより抽出されたトレーニングデータを使用して、モデルに機械学習させる。\n",
    "テストデータを使用して、ラベルの分類を行い、モデルを評価する。\n",
    "学習結果を図にプロットする。\n",
    "では、各ステップを詳しく見ていきましょう。"
   ]
  },
  {
   "cell_type": "markdown",
   "id": "2d63cc32",
   "metadata": {},
   "source": [
    "## ① プロット出力用の関数を定義する。\n",
    "\n",
    "「plot_decision_regions」という名前のプロット出力用の関数を定義します。"
   ]
  },
  {
   "cell_type": "code",
   "execution_count": 16,
   "id": "12fac093",
   "metadata": {},
   "outputs": [],
   "source": [
    "import numpy as np\n",
    "import matplotlib.pyplot as plt\n",
    "from matplotlib.colors import ListedColormap\n",
    "\n",
    "def plot_decision_regions(X, y, classifier, resolution=0.02):\n",
    "    # setup marker generator and color map\n",
    "    markers = ('s', 'x', 'o', '^', 'v')\n",
    "    colors = ('red', 'blue', 'lightgreen', 'gray', 'cyan')\n",
    "    cmap = ListedColormap(colors[:len(np.unique(y))])\n",
    "\n",
    "    # plot the decision surface\n",
    "    x1_min, x1_max = X[:, 0].min() - 1, X[:, 0].max() + 1\n",
    "    x2_min, x2_max = X[:, 1].min() - 1, X[:, 1].max() + 1\n",
    "    xx1, xx2 = np.meshgrid(np.arange(x1_min, x1_max, resolution),\n",
    "                         np.arange(x2_min, x2_max, resolution))\n",
    "    Z = classifier.predict(np.array([xx1.ravel(), xx2.ravel()]).T)\n",
    "    Z = Z.reshape(xx1.shape)\n",
    "    plt.contourf(xx1, xx2, Z, alpha=0.4, cmap=cmap)\n",
    "    plt.xlim(xx1.min(), xx1.max())\n",
    "    plt.ylim(xx2.min(), xx2.max())\n",
    "\n",
    "    # plot class samples\n",
    "    for idx, cl in enumerate(np.unique(y)):\n",
    "        plt.scatter(x=X[y == cl, 0], y=X[y == cl, 1],\n",
    "                    alpha=0.8, c=cmap(idx),\n",
    "                    marker=markers[idx], label=cl)"
   ]
  },
  {
   "cell_type": "markdown",
   "id": "a57e22b4",
   "metadata": {},
   "source": [
    "## ② データを入力する。\n",
    "\n",
    "今回は、冒頭でご紹介した「ワインデータ」を、オープンソースとして提供しているサイトのURLから、pandasライブラリーを使用して以下のようにデータを抽出します。変量Xの配列(178 x 13)に、ラベル(ワインの種類)を y(178x 1)という配列に178サンプル分のデータを格納します。"
   ]
  },
  {
   "cell_type": "code",
   "execution_count": 17,
   "id": "cd4ef8e7",
   "metadata": {},
   "outputs": [],
   "source": [
    "import pandas as pd\n",
    "df_wine = pd.read_csv('https://archive.ics.uci.edu/ml/machine-learning-databases/wine/wine.data', header=None)\n",
    "\n",
    "X, y = df_wine.iloc[:, 1:].values, df_wine.iloc[:, 0].values"
   ]
  },
  {
   "cell_type": "markdown",
   "id": "3198f6c9",
   "metadata": {},
   "source": [
    "## ③ 入力データを、トレーニングデータとテストデータに分ける。\n",
    "\n",
    "scikit-learning.model_selectionライブラリーのtrain_test_split関数を使用して、変量配列Xとラベル配列yについて、トレーニングデータとテストデータに分けます。変量配列Xを、それぞれ、X_train配列, X_test配列に分割し、ラベル配列yは、y_tarin配列, y_test配列へそれぞれ分割します。test_sizeのパラメータにより、テストデータの割合を指定できます。ここでは、0.3を指定することで、テストデータの割合を全体の30%と指定しています。全178サンプルの30%（= 53サンプル）がテストデータで、残りの125サンプルがトレーニングデータとなります。random_state=0を指定することにより、ランダムにトレーニングデータとテストデータを分割することができます。"
   ]
  },
  {
   "cell_type": "code",
   "execution_count": 18,
   "id": "4b068623",
   "metadata": {},
   "outputs": [],
   "source": [
    "from sklearn.model_selection import train_test_split\n",
    "X_train, X_test, y_train, y_test = train_test_split(X,y, test_size=0.3, random_state=0)"
   ]
  },
  {
   "cell_type": "markdown",
   "id": "6ab06bd7",
   "metadata": {},
   "source": [
    "## ④ トレーニングデータを使用してデータの標準偏差と平均値を求める。\n",
    "\n",
    "sklearn.preprocessingライブラリーのStandardScaler関数を用いて、変量配列X_trainとX_testを標準化します。まず、標準化のための標準偏差と平均値は、トレーニングデータのみを使用して計算しなければなりません。fitメソッドを使用して以下のように行います。"
   ]
  },
  {
   "cell_type": "code",
   "execution_count": 19,
   "id": "7551776e",
   "metadata": {},
   "outputs": [
    {
     "data": {
      "text/plain": [
       "StandardScaler()"
      ]
     },
     "execution_count": 19,
     "metadata": {},
     "output_type": "execute_result"
    }
   ],
   "source": [
    "from sklearn.preprocessing import StandardScaler\n",
    "sc = StandardScaler()\n",
    "sc.fit(X_train)"
   ]
  },
  {
   "cell_type": "markdown",
   "id": "bc71f646",
   "metadata": {},
   "source": [
    "## ⑤ 標準偏差と平均値を使用して、トレーニングデータとテストデータを、それぞれ標準化する。\n",
    "\n",
    "次に、変量配列のトレーニングデータとテストデータを、transformメソッドを用いて、それぞれ標準化します。標準化した変量配列をそれぞれ、X_train_std, X_test_stdに格納します。"
   ]
  },
  {
   "cell_type": "code",
   "execution_count": 20,
   "id": "627c9073",
   "metadata": {},
   "outputs": [],
   "source": [
    "X_train_std = sc.transform(X_train)\n",
    "X_test_std = sc.transform(X_test)"
   ]
  },
  {
   "cell_type": "markdown",
   "id": "2b1a842b",
   "metadata": {},
   "source": [
    "## ⑥ 適切なモデル(Classifier)を選択する。\n",
    "\n",
    "様々なClassifierがPythonライブラーの中でサポートされています。線形データとして分類できる場合は、Perceptron, Adaptive Linear Neuron(Adaline),Logistic regulation, Support Vector Machine(SVM),Decision tree, Random forests, K-nearest neighbors(KNN)などがあります。主成分分析の場合と比較するために、第6回で選択した、Logistic regulationをここでも選択することにいたします。sklearn.linear_modelライブラリーのLogisticRegression関数を使用して以下のように記述します。"
   ]
  },
  {
   "cell_type": "code",
   "execution_count": 28,
   "id": "98b94bbb",
   "metadata": {},
   "outputs": [],
   "source": [
    "from sklearn.linear_model import LogisticRegression\n",
    "\n",
    "lr = LogisticRegression()"
   ]
  },
  {
   "cell_type": "markdown",
   "id": "938bb597",
   "metadata": {},
   "source": [
    "Logistic Regressionにご興味のある方は、以下の本の第3章を是非、読んでみてください。\n",
    "\n",
    "「Python Machine Learning: Unlock Deeper Insights into Machine Learning With This Vital Guide to Cutting-edge Predictive Analytics」\n",
    "\n",
    "Sebastian Raschka (著)\n",
    "\n",
    "出版社: Packt Publishing (2015/9/23)\n",
    "\n",
    "言語: 英語\n",
    "\n",
    "ISBN-10: 1783555130\n",
    "\n",
    "ISBN-13: 978-1783555130"
   ]
  },
  {
   "cell_type": "markdown",
   "id": "8279af98",
   "metadata": {},
   "source": [
    "## ⑦ LDAにより、入力データから上位２つの新変量を抽出する。\n",
    "\n",
    "sklearn.discriminant_analysisライブラリーの中でサポートされている LinearDiscriminantAnalysis関数を用いて、トレーニングデータについてLDA分析を行い、トレーニングデータ及びテストデータについて、２つの新変量を抽出します。"
   ]
  },
  {
   "cell_type": "code",
   "execution_count": 27,
   "id": "20425146",
   "metadata": {},
   "outputs": [],
   "source": [
    "from sklearn.discriminant_analysis import  LinearDiscriminantAnalysis\n",
    "\n",
    "lda = LinearDiscriminantAnalysis(n_components=2)\n",
    "\n",
    "X_train_lda = lda.fit_transform(X_train_std,y_train)\n",
    "X_test_lda = lda.transform(X_test_std)"
   ]
  },
  {
   "cell_type": "markdown",
   "id": "880b3220",
   "metadata": {},
   "source": [
    "## ⑧ LDAにより抽出されたトレーニングデータを使用して、モデルに機械学習させる。\n",
    "\n",
    "トレーニングデータにfitメソッドを適用して、学習させます。"
   ]
  },
  {
   "cell_type": "code",
   "execution_count": 23,
   "id": "7f522939",
   "metadata": {},
   "outputs": [
    {
     "data": {
      "text/plain": [
       "LogisticRegression()"
      ]
     },
     "execution_count": 23,
     "metadata": {},
     "output_type": "execute_result"
    }
   ],
   "source": [
    "lr.fit(X_train_lda, y_train)"
   ]
  },
  {
   "cell_type": "markdown",
   "id": "d6f704f0",
   "metadata": {},
   "source": [
    "## ⑨ テストデータを使用して、ラベルの分類を行い、モデルを評価する。\n",
    "\n",
    "テストデータを使用して、ラベルの分類を行い、sklearn.metricsライブラリーのaccuracy_score関数を用いて、モデルの精度を評価します。"
   ]
  },
  {
   "cell_type": "code",
   "execution_count": 24,
   "id": "2d49cb1b",
   "metadata": {},
   "outputs": [
    {
     "name": "stdout",
     "output_type": "stream",
     "text": [
      "Accuracy: 1.00\n"
     ]
    }
   ],
   "source": [
    "from sklearn.metrics import accuracy_score\n",
    "\n",
    "y_pred = lr.predict(X_test_lda)\n",
    "print('Accuracy: %.2f' % accuracy_score(y_test,y_pred))"
   ]
  },
  {
   "cell_type": "markdown",
   "id": "ad9410b8",
   "metadata": {},
   "source": [
    "出力結果は、100%の精度と表示されます。"
   ]
  },
  {
   "cell_type": "markdown",
   "id": "ccb2bc05",
   "metadata": {},
   "source": [
    "## ⑩ 学習結果を図にプロットする。\n",
    "\n",
    "①で定義したplot_decision_regions関数を用いて、トレーニングデータとテストデータについて、それぞれ、抽出した第1新変量(LD1)を横軸に、第２新変量1(LD2)を縦軸にした２次元領域にプロットします。\n",
    "\n",
    "まず、トレーニングデータについてプロットします。"
   ]
  },
  {
   "cell_type": "code",
   "execution_count": 25,
   "id": "a8ba5e72",
   "metadata": {},
   "outputs": [
    {
     "name": "stderr",
     "output_type": "stream",
     "text": [
      "*c* argument looks like a single numeric RGB or RGBA sequence, which should be avoided as value-mapping will have precedence in case its length matches with *x* & *y*.  Please use the *color* keyword-argument or provide a 2D array with a single row if you intend to specify the same RGB or RGBA value for all points.\n",
      "*c* argument looks like a single numeric RGB or RGBA sequence, which should be avoided as value-mapping will have precedence in case its length matches with *x* & *y*.  Please use the *color* keyword-argument or provide a 2D array with a single row if you intend to specify the same RGB or RGBA value for all points.\n",
      "*c* argument looks like a single numeric RGB or RGBA sequence, which should be avoided as value-mapping will have precedence in case its length matches with *x* & *y*.  Please use the *color* keyword-argument or provide a 2D array with a single row if you intend to specify the same RGB or RGBA value for all points.\n"
     ]
    },
    {
     "data": {
      "image/png": "[encoded data removed]",
      "text/plain": [
       "<Figure size 432x288 with 1 Axes>"
      ]
     },
     "metadata": {
      "needs_background": "light"
     },
     "output_type": "display_data"
    }
   ],
   "source": [
    "plot_decision_regions(X_train_lda, y_train, classifier=lr)\n",
    "\n",
    "plt.xlabel('LD 1')\n",
    "\n",
    "plt.ylabel('LD 2')\n",
    "plt.legend(loc='lower left')\n",
    "plt.tight_layout()\n",
    "plt.show()"
   ]
  },
  {
   "cell_type": "markdown",
   "id": "12c0bae4",
   "metadata": {},
   "source": [
    "トレーニングデータについて、概ね、直線で、分類されていることがわかります。\n",
    "\n",
    "次に、テストデータについてプロットします。"
   ]
  },
  {
   "cell_type": "code",
   "execution_count": 26,
   "id": "a9cc672b",
   "metadata": {},
   "outputs": [
    {
     "name": "stderr",
     "output_type": "stream",
     "text": [
      "*c* argument looks like a single numeric RGB or RGBA sequence, which should be avoided as value-mapping will have precedence in case its length matches with *x* & *y*.  Please use the *color* keyword-argument or provide a 2D array with a single row if you intend to specify the same RGB or RGBA value for all points.\n",
      "*c* argument looks like a single numeric RGB or RGBA sequence, which should be avoided as value-mapping will have precedence in case its length matches with *x* & *y*.  Please use the *color* keyword-argument or provide a 2D array with a single row if you intend to specify the same RGB or RGBA value for all points.\n",
      "*c* argument looks like a single numeric RGB or RGBA sequence, which should be avoided as value-mapping will have precedence in case its length matches with *x* & *y*.  Please use the *color* keyword-argument or provide a 2D array with a single row if you intend to specify the same RGB or RGBA value for all points.\n"
     ]
    },
    {
     "data": {
      "image/png": "[encoded data removed]",
      "text/plain": [
       "<Figure size 432x288 with 1 Axes>"
      ]
     },
     "metadata": {
      "needs_background": "light"
     },
     "output_type": "display_data"
    }
   ],
   "source": [
    "plot_decision_regions(X_test_lda, y_test, classifier=lr)\n",
    "\n",
    "plt.xlabel('LD 1')\n",
    "\n",
    "plt.ylabel('LD 2') \n",
    "plt.legend(loc='lower left')\n",
    "plt.tight_layout()\n",
    "plt.show()"
   ]
  },
  {
   "cell_type": "markdown",
   "id": "bb821da1",
   "metadata": {},
   "source": [
    "テストデータについては、全てのサンプルが直線で３つの領域に分類できていることがわかります。"
   ]
  },
  {
   "cell_type": "code",
   "execution_count": null,
   "id": "eb72d32b",
   "metadata": {},
   "outputs": [],
   "source": []
  }
 ],
 "metadata": {
  "kernelspec": {
   "display_name": "Python 3 (ipykernel)",
   "language": "python",
   "name": "python3"
  },
  "language_info": {
   "codemirror_mode": {
    "name": "ipython",
    "version": 3
   },
   "file_extension": ".py",
   "mimetype": "text/x-python",
   "name": "python",
   "nbconvert_exporter": "python",
   "pygments_lexer": "ipython3",
   "version": "3.10.3"
  }
 },
 "nbformat": 4,
 "nbformat_minor": 5
}
